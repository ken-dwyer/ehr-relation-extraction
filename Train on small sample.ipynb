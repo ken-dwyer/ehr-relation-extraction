{
 "cells": [
  {
   "cell_type": "code",
   "execution_count": null,
   "metadata": {
    "application/vnd.databricks.v1+cell": {
     "cellMetadata": {
      "byteLimit": 2048000,
      "rowLimit": 10000
     },
     "inputWidgets": {},
     "nuid": "b9f23d01-d299-4a3c-812c-8e3bd93600d0",
     "showTitle": false,
     "title": ""
    }
   },
   "outputs": [],
   "source": [
    "# Optional: List the dependencies\n",
    "# !cat pyproject.toml"
   ]
  },
  {
   "cell_type": "code",
   "execution_count": null,
   "metadata": {
    "application/vnd.databricks.v1+cell": {
     "cellMetadata": {
      "byteLimit": 2048000,
      "rowLimit": 10000
     },
     "inputWidgets": {},
     "nuid": "8a80b79a-96d4-4029-b6d5-e586c0242c88",
     "showTitle": false,
     "title": ""
    },
    "jupyter": {
     "outputs_hidden": true
    }
   },
   "outputs": [],
   "source": [
    "# The package versions match the ones in the Databricks 13.3 ML runtime where possible.\n",
    "# We only need to install the packages that aren't already in the runtime.\n",
    "%pip install --upgrade pip\n",
    "%pip install \"seqeval==1.2.2\" \"filelock==3.13.1\" \"https://s3-us-west-2.amazonaws.com/ai2-s2-scispacy/releases/v0.5.3/en_ner_bc5cdr_md-0.5.3.tar.gz\""
   ]
  },
  {
   "cell_type": "code",
   "execution_count": null,
   "metadata": {
    "application/vnd.databricks.v1+cell": {
     "cellMetadata": {
      "byteLimit": 2048000,
      "rowLimit": 10000
     },
     "inputWidgets": {},
     "nuid": "6126579d-639d-4343-8a61-372e816d1dc0",
     "showTitle": false,
     "title": ""
    }
   },
   "outputs": [],
   "source": [
    "# Optional: Remove files from previous run\n",
    "# rm -r /databricks/driver/datasets/preprocessed /databricks/driver/output/ner_sample"
   ]
  },
  {
   "cell_type": "code",
   "execution_count": null,
   "metadata": {
    "application/vnd.databricks.v1+cell": {
     "cellMetadata": {
      "byteLimit": 2048000,
      "rowLimit": 10000
     },
     "inputWidgets": {},
     "nuid": "464af1a4-8270-4219-a0be-ff030013551d",
     "showTitle": false,
     "title": ""
    }
   },
   "outputs": [],
   "source": [
    "!mkdir -p /databricks/driver/datasets/ner_sample/train /databricks/driver/datasets/ner_sample/test /databricks/driver/datasets/preprocessed"
   ]
  },
  {
   "cell_type": "code",
   "execution_count": null,
   "metadata": {
    "application/vnd.databricks.v1+cell": {
     "cellMetadata": {
      "byteLimit": 2048000,
      "rowLimit": 10000
     },
     "inputWidgets": {},
     "nuid": "a7414326-5d26-4b76-86ce-914a2aa2b903",
     "showTitle": false,
     "title": ""
    }
   },
   "outputs": [],
   "source": [
    "# Copy a few files. Put the same files in train and test since we want to evaluate the model's\n",
    "# ability to overfit on the training data.\n",
    "!cp -v /dbfs/FileStore/n2c2-2018/training_20180910/107*.* /databricks/driver/datasets/ner_sample/train/"
   ]
  },
  {
   "cell_type": "code",
   "execution_count": null,
   "metadata": {
    "application/vnd.databricks.v1+cell": {
     "cellMetadata": {
      "byteLimit": 2048000,
      "rowLimit": 10000
     },
     "inputWidgets": {},
     "nuid": "c3d486e2-18b8-4f8c-8516-58cfa6f22c37",
     "showTitle": false,
     "title": ""
    }
   },
   "outputs": [],
   "source": [
    "!cp -v /dbfs/FileStore/n2c2-2018/training_20180910/107*.* /databricks/driver/datasets/ner_sample/test/"
   ]
  },
  {
   "cell_type": "code",
   "execution_count": null,
   "metadata": {
    "application/vnd.databricks.v1+cell": {
     "cellMetadata": {
      "byteLimit": 2048000,
      "rowLimit": 10000
     },
     "inputWidgets": {},
     "nuid": "43d1bc45-237e-46ab-aa79-cd45d4164889",
     "showTitle": false,
     "title": ""
    }
   },
   "outputs": [],
   "source": [
    "!make generate-data"
   ]
  },
  {
   "cell_type": "code",
   "execution_count": null,
   "metadata": {
    "application/vnd.databricks.v1+cell": {
     "cellMetadata": {
      "byteLimit": 2048000,
      "rowLimit": 10000
     },
     "inputWidgets": {},
     "nuid": "1d5e972f-cc1d-4c18-aa93-03a1eaed1141",
     "showTitle": false,
     "title": ""
    }
   },
   "outputs": [],
   "source": [
    "!make train-biobert-ner"
   ]
  }
 ],
 "metadata": {
  "application/vnd.databricks.v1+notebook": {
   "dashboards": [],
   "language": "python",
   "notebookMetadata": {
    "pythonIndentUnit": 4
   },
   "notebookName": "Train on small sample",
   "widgets": {}
  },
  "language_info": {
   "name": "python"
  }
 },
 "nbformat": 4,
 "nbformat_minor": 0
}
